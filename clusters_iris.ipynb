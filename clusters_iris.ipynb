{
  "nbformat": 4,
  "nbformat_minor": 0,
  "metadata": {
    "colab": {
      "name": "clusters_iris.ipynb",
      "provenance": [],
      "collapsed_sections": []
    },
    "kernelspec": {
      "name": "python3",
      "display_name": "Python 3"
    }
  },
  "cells": [
    {
      "cell_type": "markdown",
      "metadata": {
        "id": "SvV1sby6ySsC"
      },
      "source": [
        "In this task the optimal number of clusters is predicted. K-Means algorithm is used as the clustering algorithm.\n"
      ]
    },
    {
      "cell_type": "code",
      "metadata": {
        "id": "M4CrHc6Wakrp"
      },
      "source": [
        "from sklearn.cluster import KMeans\n",
        "from sklearn.model_selection import train_test_split\n",
        "from sklearn.metrics.cluster import adjusted_rand_score\n",
        "from sklearn.metrics import confusion_matrix\n",
        "from sklearn.manifold import TSNE\n",
        "import numpy as np\n",
        "import matplotlib.pyplot as plt\n",
        "import pandas as pd \n",
        "from sklearn import metrics"
      ],
      "execution_count": null,
      "outputs": []
    },
    {
      "cell_type": "markdown",
      "metadata": {
        "id": "nHBdVt8Zyzor"
      },
      "source": [
        "**Pre-Processing**\n",
        "\n",
        "The dataset is loaded and the missing values will be checked. Following that, the dataset is split into training and test set.  "
      ]
    },
    {
      "cell_type": "code",
      "metadata": {
        "id": "JwVj2InmbFO1"
      },
      "source": [
        "iris_data = pd.read_csv('Iris.csv')\n",
        "X = iris_data.iloc[:,1:5]\n",
        "Y = iris_data.iloc[:,5]"
      ],
      "execution_count": null,
      "outputs": []
    },
    {
      "cell_type": "code",
      "metadata": {
        "id": "2yc0DanrvDz6",
        "outputId": "f508a1f7-e8c0-4283-8306-197c60194099",
        "colab": {
          "base_uri": "https://localhost:8080/",
          "height": 101
        }
      },
      "source": [
        "X.isna().sum()"
      ],
      "execution_count": null,
      "outputs": [
        {
          "output_type": "execute_result",
          "data": {
            "text/plain": [
              "SepalLengthCm    0\n",
              "SepalWidthCm     0\n",
              "PetalLengthCm    0\n",
              "PetalWidthCm     0\n",
              "dtype: int64"
            ]
          },
          "metadata": {
            "tags": []
          },
          "execution_count": 64
        }
      ]
    },
    {
      "cell_type": "markdown",
      "metadata": {
        "id": "GXOXxrfdzl0W"
      },
      "source": [
        "No missing values are found. \n"
      ]
    },
    {
      "cell_type": "code",
      "metadata": {
        "id": "chTfsbG6F988",
        "outputId": "858b19bc-8875-4b90-9995-6fc989496ea0",
        "colab": {
          "base_uri": "https://localhost:8080/",
          "height": 265
        }
      },
      "source": [
        "X.boxplot()\n",
        "plt.show()"
      ],
      "execution_count": null,
      "outputs": [
        {
          "output_type": "display_data",
          "data": {
            "image/png": "[encoded data removed]",
            "text/plain": [
              "<Figure size 432x288 with 1 Axes>"
            ]
          },
          "metadata": {
            "tags": [],
            "needs_background": "light"
          }
        }
      ]
    },
    {
      "cell_type": "markdown",
      "metadata": {
        "id": "lcGeOOO9GBhO"
      },
      "source": [
        "We can see that the dataset is negatively skewed and sepal width has some outliers. As there exists a group within the outliers, these outliers are not removed. They are kept for further analysis.\n",
        "Now let us proceed further for dataset split"
      ]
    },
    {
      "cell_type": "code",
      "metadata": {
        "id": "4p-r5VcBwbWm"
      },
      "source": [
        "x_train,x_test, y_train ,y_test = train_test_split(X,Y,test_size=0.2,random_state=10)"
      ],
      "execution_count": null,
      "outputs": []
    },
    {
      "cell_type": "markdown",
      "metadata": {
        "id": "uc5GumIcztyq"
      },
      "source": [
        "**Choosing the optimal number of clusters.**\n",
        "\n",
        "**Internal Validation**\n",
        "\n",
        "Various methods are available to choose the optimal number of clusters. Here, Calinski-Harabasz index is used as the metric to choose the optimal number of clusters. The cluster with maximum CH index is choosen as the optimal number of cluster\n",
        "\n",
        "In this scenario, we have found CH index for clusters upto 5. By default, CH index for cluster = 1 is 1. "
      ]
    },
    {
      "cell_type": "code",
      "metadata": {
        "id": "CLjaLWu_bVPU"
      },
      "source": [
        "K=5\n",
        "CH = [1]*(K+1)\n",
        "\n",
        "for cluster in range(2,K+1):\n",
        "  model = KMeans(n_clusters=cluster).fit(x_train) \n",
        "  labels = model.labels_\n",
        "  CH[cluster] = metrics.calinski_harabasz_score(x_train, labels)\n",
        "\n"
      ],
      "execution_count": null,
      "outputs": []
    },
    {
      "cell_type": "code",
      "metadata": {
        "id": "p0cDoNnZbtgJ",
        "outputId": "10a57b90-d2fd-4b8f-9096-8095e70b7566",
        "colab": {
          "base_uri": "https://localhost:8080/",
          "height": 295
        }
      },
      "source": [
        "plt.scatter(list(range(K+1)) ,CH)\n",
        "plt.xlabel(\"Clusters\")\n",
        "plt.ylabel(\"CH Index\")\n",
        "plt.title(\"CH index vs number of clusters\")\n",
        "plt.show()"
      ],
      "execution_count": null,
      "outputs": [
        {
          "output_type": "display_data",
          "data": {
            "image/png": "[encoded data removed]",
            "text/plain": [
              "<Figure size 432x288 with 1 Axes>"
            ]
          },
          "metadata": {
            "tags": [],
            "needs_background": "light"
          }
        }
      ]
    },
    {
      "cell_type": "markdown",
      "metadata": {
        "id": "qRcqjQvE0YEa"
      },
      "source": [
        "**We can see that the maximum CH index is cluster = 3.** Hence we conclude that the optimal number of cluster is 3. We fit the model with clusters = 3\n"
      ]
    },
    {
      "cell_type": "code",
      "metadata": {
        "id": "3fb84vl5b6q7"
      },
      "source": [
        "final_fit = KMeans(n_clusters=3).fit(x_train)"
      ],
      "execution_count": null,
      "outputs": []
    },
    {
      "cell_type": "code",
      "metadata": {
        "id": "SvNIUQkAs2HG"
      },
      "source": [
        "class_labels = final_fit.predict(x_train)"
      ],
      "execution_count": null,
      "outputs": []
    },
    {
      "cell_type": "markdown",
      "metadata": {
        "id": "6ve_IjFA0kpU"
      },
      "source": [
        "**Visualizing the output**\n",
        "\n",
        "The model is fitted with clusters = 3. As the dataset is 4-dimension, for visualization purpose, we reduce the dimension to 2.\n",
        "\n"
      ]
    },
    {
      "cell_type": "code",
      "metadata": {
        "id": "d9cdLszp1hzn"
      },
      "source": [
        "reduced_x = TSNE(n_components=2).fit_transform(x_train)"
      ],
      "execution_count": null,
      "outputs": []
    },
    {
      "cell_type": "code",
      "metadata": {
        "id": "WeEOhUJithO9",
        "outputId": "5c30467b-120c-4ab3-a221-fcdc435036ae",
        "colab": {
          "base_uri": "https://localhost:8080/",
          "height": 281
        }
      },
      "source": [
        "colors = np.array(['Green','Red','Blue'])\n",
        "plt.scatter(reduced_x[:,0],reduced_x[:,1],c=colors[class_labels])\n",
        "plt.title(\"Visualizing the final output\")\n",
        "plt.show()"
      ],
      "execution_count": null,
      "outputs": [
        {
          "output_type": "display_data",
          "data": {
            "image/png": "[encoded data removed]",
            "text/plain": [
              "<Figure size 432x288 with 1 Axes>"
            ]
          },
          "metadata": {
            "tags": [],
            "needs_background": "light"
          }
        }
      ]
    },
    {
      "cell_type": "markdown",
      "metadata": {
        "id": "cQLKWHud19hu"
      },
      "source": [
        "**External Validation**\n",
        "\n",
        "As the number of cluster is concluded to 3, the performance of the model is evaluated using adjusted rand index metric. \n",
        "\n",
        "Also the confusion matrix is provided below\n"
      ]
    },
    {
      "cell_type": "code",
      "metadata": {
        "id": "Ikrj3NOzxrjd"
      },
      "source": [
        "test_pred = final_fit.predict(x_test)"
      ],
      "execution_count": null,
      "outputs": []
    },
    {
      "cell_type": "code",
      "metadata": {
        "id": "yzHQKw8KxQVq",
        "outputId": "d1c61ddb-f539-49da-a503-63a2dd37aa95",
        "colab": {
          "base_uri": "https://localhost:8080/",
          "height": 34
        }
      },
      "source": [
        "print(adjusted_rand_score(test_pred,y_test))"
      ],
      "execution_count": null,
      "outputs": [
        {
          "output_type": "stream",
          "text": [
            "0.8182451253481894\n"
          ],
          "name": "stdout"
        }
      ]
    },
    {
      "cell_type": "markdown",
      "metadata": {
        "id": "WjMWHTr02T9S"
      },
      "source": [
        "**The adjusted rand index is found to be 0.818.** This is close to 1. The fitted model is good.\n",
        "\n",
        "The confusion matrix is provided below and let us check at the matrix\n"
      ]
    },
    {
      "cell_type": "code",
      "metadata": {
        "id": "Vw5FamAz670O"
      },
      "source": [
        "## converting the text into numbers for creating the confusion matrix\n",
        "conv_y_test = []\n",
        "## encoded alphabetically\n",
        "for i in y_test:\n",
        "  if i == \"Iris-versicolor\":\n",
        "    conv_y_test.append(1)\n",
        "  elif i ==\"Iris-virginica\":\n",
        "    conv_y_test.append(2)\n",
        "  elif i==\"Iris-setosa\":\n",
        "    conv_y_test.append(0)"
      ],
      "execution_count": null,
      "outputs": []
    },
    {
      "cell_type": "code",
      "metadata": {
        "id": "gzCs-IUf6bwP",
        "outputId": "f7759104-8f00-4769-9469-6403227b20a8",
        "colab": {
          "base_uri": "https://localhost:8080/",
          "height": 67
        }
      },
      "source": [
        "confusion_matrix(conv_y_test,test_pred)"
      ],
      "execution_count": null,
      "outputs": [
        {
          "output_type": "execute_result",
          "data": {
            "text/plain": [
              "array([[10,  0,  0],\n",
              "       [ 0, 13,  0],\n",
              "       [ 0,  2,  5]])"
            ]
          },
          "metadata": {
            "tags": []
          },
          "execution_count": 91
        }
      ]
    },
    {
      "cell_type": "markdown",
      "metadata": {
        "id": "EVMUIrvt9Mf8"
      },
      "source": [
        "We can see that 28 out of 30 samples are predicted perfectly. The accuracy is high. The fitted model is really good."
      ]
    }
  ]
}