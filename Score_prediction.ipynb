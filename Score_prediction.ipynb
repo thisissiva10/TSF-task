{
  "nbformat": 4,
  "nbformat_minor": 0,
  "metadata": {
    "colab": {
      "name": "Score_prediction.ipynb",
      "provenance": [],
      "collapsed_sections": []
    },
    "kernelspec": {
      "name": "python3",
      "display_name": "Python 3"
    }
  },
  "cells": [
    {
      "cell_type": "markdown",
      "metadata": {
        "id": "PMDhHBpz_LoK"
      },
      "source": [
        "In this task we have to predict the percentage of marks of a student for the given hours of study. A simple linear regression model is used to find the relationship between studying hours and percentage of marks. The task is implemented using Python. First we import necessary libraries to perform the task"
      ]
    },
    {
      "cell_type": "code",
      "metadata": {
        "id": "uyqtvCbuCIGK"
      },
      "source": [
        "from sklearn import linear_model\n",
        "from sklearn.metrics import mean_squared_error, r2_score\n",
        "from sklearn.model_selection import train_test_split\n",
        "import pandas as pd\n",
        "import numpy as np\n",
        "import matplotlib.pyplot as plt\n",
        "import seaborn as sns\n"
      ],
      "execution_count": null,
      "outputs": []
    },
    {
      "cell_type": "code",
      "metadata": {
        "id": "C5-oH_nhCY2S"
      },
      "source": [
        "dataset = pd.read_csv('score.csv')"
      ],
      "execution_count": null,
      "outputs": []
    },
    {
      "cell_type": "code",
      "metadata": {
        "id": "i9nRXMusEtVf",
        "outputId": "d73ac655-e3c6-45f3-e8f7-40ab5e6173ea",
        "colab": {
          "base_uri": "https://localhost:8080/",
          "height": 195
        }
      },
      "source": [
        "dataset.head()"
      ],
      "execution_count": null,
      "outputs": [
        {
          "output_type": "execute_result",
          "data": {
            "text/html": [
              "<div>\n",
              "<style scoped>\n",
              "    .dataframe tbody tr th:only-of-type {\n",
              "        vertical-align: middle;\n",
              "    }\n",
              "\n",
              "    .dataframe tbody tr th {\n",
              "        vertical-align: top;\n",
              "    }\n",
              "\n",
              "    .dataframe thead th {\n",
              "        text-align: right;\n",
              "    }\n",
              "</style>\n",
              "<table border=\"1\" class=\"dataframe\">\n",
              "  <thead>\n",
              "    <tr style=\"text-align: right;\">\n",
              "      <th></th>\n",
              "      <th>Hours</th>\n",
              "      <th>Scores</th>\n",
              "    </tr>\n",
              "  </thead>\n",
              "  <tbody>\n",
              "    <tr>\n",
              "      <th>0</th>\n",
              "      <td>2.5</td>\n",
              "      <td>21</td>\n",
              "    </tr>\n",
              "    <tr>\n",
              "      <th>1</th>\n",
              "      <td>5.1</td>\n",
              "      <td>47</td>\n",
              "    </tr>\n",
              "    <tr>\n",
              "      <th>2</th>\n",
              "      <td>3.2</td>\n",
              "      <td>27</td>\n",
              "    </tr>\n",
              "    <tr>\n",
              "      <th>3</th>\n",
              "      <td>8.5</td>\n",
              "      <td>75</td>\n",
              "    </tr>\n",
              "    <tr>\n",
              "      <th>4</th>\n",
              "      <td>3.5</td>\n",
              "      <td>30</td>\n",
              "    </tr>\n",
              "  </tbody>\n",
              "</table>\n",
              "</div>"
            ],
            "text/plain": [
              "   Hours  Scores\n",
              "0    2.5      21\n",
              "1    5.1      47\n",
              "2    3.2      27\n",
              "3    8.5      75\n",
              "4    3.5      30"
            ]
          },
          "metadata": {
            "tags": []
          },
          "execution_count": 4
        }
      ]
    },
    {
      "cell_type": "markdown",
      "metadata": {
        "id": "A6iOz7RBKkNs"
      },
      "source": [
        "**Exploratory Data Analysis**\n"
      ]
    },
    {
      "cell_type": "markdown",
      "metadata": {
        "id": "1Dez_XxbCRrB"
      },
      "source": [
        "Let us check for the missing values in the dataset"
      ]
    },
    {
      "cell_type": "code",
      "metadata": {
        "id": "BnzyCX7HCREM",
        "outputId": "7046cb82-bd22-4a6b-fcbb-5770ece37eca",
        "colab": {
          "base_uri": "https://localhost:8080/",
          "height": 67
        }
      },
      "source": [
        "dataset.isna().sum()"
      ],
      "execution_count": null,
      "outputs": [
        {
          "output_type": "execute_result",
          "data": {
            "text/plain": [
              "Hours     0\n",
              "Scores    0\n",
              "dtype: int64"
            ]
          },
          "metadata": {
            "tags": []
          },
          "execution_count": 5
        }
      ]
    },
    {
      "cell_type": "markdown",
      "metadata": {
        "id": "eZuZyLl4KJ0z"
      },
      "source": [
        "We do not have any missing values in the dataset.\n",
        "\n",
        "Let us visualize the distribution of the dataset. Let us also look for outliers if exists."
      ]
    },
    {
      "cell_type": "code",
      "metadata": {
        "id": "TLqSBZd1IlHN",
        "outputId": "76a83845-e6e3-4dba-9fd3-6e012349b103",
        "colab": {
          "base_uri": "https://localhost:8080/",
          "height": 265
        }
      },
      "source": [
        "plt.boxplot(dataset['Hours'])\n",
        "plt.xticks([1],labels=['Hours of study'])\n",
        "plt.show()"
      ],
      "execution_count": null,
      "outputs": [
        {
          "output_type": "display_data",
          "data": {
            "image/png": "[encoded data removed]",
            "text/plain": [
              "<Figure size 432x288 with 1 Axes>"
            ]
          },
          "metadata": {
            "tags": [],
            "needs_background": "light"
          }
        }
      ]
    },
    {
      "cell_type": "code",
      "metadata": {
        "id": "2Kii6TJbM14-",
        "outputId": "53ed5f5c-592a-4ce5-e8c5-5d154c0d0105",
        "colab": {
          "base_uri": "https://localhost:8080/",
          "height": 34
        }
      },
      "source": [
        "np.quantile(dataset['Hours'],[0.25,0.5,0.75,1])"
      ],
      "execution_count": null,
      "outputs": [
        {
          "output_type": "execute_result",
          "data": {
            "text/plain": [
              "array([2.7, 4.8, 7.4, 9.2])"
            ]
          },
          "metadata": {
            "tags": []
          },
          "execution_count": 58
        }
      ]
    },
    {
      "cell_type": "markdown",
      "metadata": {
        "id": "bEmDF7MVKhYq"
      },
      "source": [
        "We can see that the distribution is slightly positively skewed. There exists no significant outliers in the dataset.\n",
        "\n",
        "25 % of the students have studied upto 2.7 hours. 50% of the students have studies around 4.8 hours. 75% of the students have studied upto 7.4 hours. The maximum a student has studied is 9.2 hours.\n"
      ]
    },
    {
      "cell_type": "markdown",
      "metadata": {
        "id": "YZi8rgUME3eT"
      },
      "source": [
        "\n",
        "\n",
        "Before fitting the data into the model , we will check the relationship between the hours of study and percentage of marks scored.\n"
      ]
    },
    {
      "cell_type": "code",
      "metadata": {
        "id": "1ih_HAXKCadJ",
        "outputId": "2d82d59c-e319-4e9f-c076-de72fe07f117",
        "colab": {
          "base_uri": "https://localhost:8080/",
          "height": 265
        }
      },
      "source": [
        "\n",
        "plt.scatter(dataset['Hours'],dataset['Scores'])\n",
        "plt.show()\n"
      ],
      "execution_count": null,
      "outputs": [
        {
          "output_type": "display_data",
          "data": {
            "image/png": "[encoded data removed]",
            "text/plain": [
              "<Figure size 432x288 with 1 Axes>"
            ]
          },
          "metadata": {
            "tags": [],
            "needs_background": "light"
          }
        }
      ]
    },
    {
      "cell_type": "markdown",
      "metadata": {
        "id": "kweh3z8JBaEt"
      },
      "source": [
        "We can see that there exists a positive correlation between hours of study and percentage of marks scored. Hence this feature is significant in predicting the percentage of marks. \n"
      ]
    },
    {
      "cell_type": "markdown",
      "metadata": {
        "id": "E69kPoJ6E_nv"
      },
      "source": [
        "**Model fitting**"
      ]
    },
    {
      "cell_type": "markdown",
      "metadata": {
        "id": "4XNwtf8vCp7q"
      },
      "source": [
        "**Data Spilt**"
      ]
    },
    {
      "cell_type": "markdown",
      "metadata": {
        "id": "IqrFwzR3CwFO"
      },
      "source": [
        "Before we fit the model, we will seggregate the dataset into training and test data. We have taken 80% of the data for training and 20% for testing. The model expects a 2D array as the input hence, the data is reshaped to a 2D arrray. "
      ]
    },
    {
      "cell_type": "code",
      "metadata": {
        "id": "04u1t51HFJqw"
      },
      "source": [
        "X_train, X_test, y_train, y_test = train_test_split(dataset['Hours'], dataset['Scores'], test_size=0.2, random_state =  42)\n",
        "\n",
        "train_x = X_train.values.reshape(-1,1)\n",
        "train_y = y_train.values.reshape(-1,1)\n",
        "\n",
        "\n",
        "test_x = X_test.values.reshape(-1,1)\n",
        "test_y = y_test.values.reshape(-1,1)"
      ],
      "execution_count": null,
      "outputs": []
    },
    {
      "cell_type": "markdown",
      "metadata": {
        "id": "ZP3UsaW7FNmr"
      },
      "source": [
        "The model is fitted below and the performance is predicted using test set. Mean squared error and adjusted R squared is used as the metric for measuring the performance of the model"
      ]
    },
    {
      "cell_type": "code",
      "metadata": {
        "id": "zyw3XrqJC28O"
      },
      "source": [
        "model = linear_model.LinearRegression()"
      ],
      "execution_count": null,
      "outputs": []
    },
    {
      "cell_type": "code",
      "metadata": {
        "id": "3SfhpfQKFGRD",
        "outputId": "40bc8342-1db0-49f0-e87a-2e46fca1c223",
        "colab": {
          "base_uri": "https://localhost:8080/",
          "height": 34
        }
      },
      "source": [
        "model.fit(train_x,train_y)"
      ],
      "execution_count": null,
      "outputs": [
        {
          "output_type": "execute_result",
          "data": {
            "text/plain": [
              "LinearRegression(copy_X=True, fit_intercept=True, n_jobs=None, normalize=False)"
            ]
          },
          "metadata": {
            "tags": []
          },
          "execution_count": 72
        }
      ]
    },
    {
      "cell_type": "markdown",
      "metadata": {
        "id": "P4FpZ-CiR9Im"
      },
      "source": [
        "Defining a function to plot the regression fit for a given dataset\n"
      ]
    },
    {
      "cell_type": "code",
      "metadata": {
        "id": "O7Yf0nQiNh0g"
      },
      "source": [
        "def plot_fit(x,y,predicted,msg='test'):\n",
        "  plt.scatter(x, y,  color='black',label='Observed data')\n",
        "  plt.plot(x, predicted, color='blue', linewidth=3,label='Predicted data')\n",
        "  plt.title('Linear Regression Results on the {} data'.format(msg))\n",
        "  plt.xlabel('Hours')\n",
        "  plt.ylabel('Scores')\n",
        "  plt.legend()\n",
        "  plt.show()"
      ],
      "execution_count": null,
      "outputs": []
    },
    {
      "cell_type": "code",
      "metadata": {
        "id": "OhAn1F11OLlT"
      },
      "source": [
        "pred_train = model.predict(train_x)"
      ],
      "execution_count": null,
      "outputs": []
    },
    {
      "cell_type": "markdown",
      "metadata": {
        "id": "C7ZqWEQeOZM4"
      },
      "source": [
        "Visualizing the regression fit on the training data"
      ]
    },
    {
      "cell_type": "code",
      "metadata": {
        "id": "Y9HHnw5_OSn4",
        "outputId": "90fa538e-4107-4af9-a242-37daa503a31e",
        "colab": {
          "base_uri": "https://localhost:8080/",
          "height": 295
        }
      },
      "source": [
        "plot_fit(train_x,train_y,pred_train,'training')"
      ],
      "execution_count": null,
      "outputs": [
        {
          "output_type": "display_data",
          "data": {
            "image/png": "[encoded data removed]",
            "text/plain": [
              "<Figure size 432x288 with 1 Axes>"
            ]
          },
          "metadata": {
            "tags": [],
            "needs_background": "light"
          }
        }
      ]
    },
    {
      "cell_type": "markdown",
      "metadata": {
        "id": "-pCxFhY1OgIY"
      },
      "source": [
        "**Model testing**"
      ]
    },
    {
      "cell_type": "markdown",
      "metadata": {
        "id": "BWrTXefgOh-n"
      },
      "source": [
        "Let us predict the percentage of scores in the test data to measure the performance of the model"
      ]
    },
    {
      "cell_type": "code",
      "metadata": {
        "id": "iYKYZ3aSGWbV"
      },
      "source": [
        "prediction = model.predict(test_x)"
      ],
      "execution_count": null,
      "outputs": []
    },
    {
      "cell_type": "code",
      "metadata": {
        "id": "daPdydy-GY9U",
        "outputId": "54ec9855-ffeb-4fc4-9aca-833cc8e0a578",
        "colab": {
          "base_uri": "https://localhost:8080/",
          "height": 50
        }
      },
      "source": [
        "print('Mean squared error value: %.2f'\n",
        "      % mean_squared_error(test_y, prediction))\n",
        "# The coefficient of determination: 1 is perfect prediction\n",
        "print('Adjusted R squared value: %.2f'\n",
        "      % r2_score(test_y, prediction))\n"
      ],
      "execution_count": null,
      "outputs": [
        {
          "output_type": "stream",
          "text": [
            "Mean squared error value: 18.94\n",
            "Adjusted R squared value: 0.97\n"
          ],
          "name": "stdout"
        }
      ]
    },
    {
      "cell_type": "markdown",
      "metadata": {
        "id": "sas8jBC4F_uw"
      },
      "source": [
        "We can see that the adjusted R square value is close to 1. Hence the trained model has captured the relationship between hours of study and percentage of marks well."
      ]
    },
    {
      "cell_type": "markdown",
      "metadata": {
        "id": "pntZtvEFIZZO"
      },
      "source": [
        "We will now visualize the predicted scores against the actual scores in the test set\n"
      ]
    },
    {
      "cell_type": "code",
      "metadata": {
        "id": "mLzG-UjHJtlP",
        "outputId": "bfb508e7-7078-42af-a085-5e0420d33e89",
        "colab": {
          "base_uri": "https://localhost:8080/",
          "height": 295
        }
      },
      "source": [
        "plot_fit(test_x,test_y,prediction)"
      ],
      "execution_count": null,
      "outputs": [
        {
          "output_type": "display_data",
          "data": {
            "image/png": "[encoded data removed]",
            "text/plain": [
              "<Figure size 432x288 with 1 Axes>"
            ]
          },
          "metadata": {
            "tags": [],
            "needs_background": "light"
          }
        }
      ]
    },
    {
      "cell_type": "markdown",
      "metadata": {
        "id": "9ar_ScO_KeXm"
      },
      "source": [
        "**Estimate percentage score**\n",
        "\n",
        "The percentage score of a student is estimated below for the given hours of study\n"
      ]
    },
    {
      "cell_type": "code",
      "metadata": {
        "id": "WqINz7fYJ5bQ"
      },
      "source": [
        "sample_data = pd.Series([9.25])\n",
        "sample_data = sample_data.values.reshape(-1,1)"
      ],
      "execution_count": null,
      "outputs": []
    },
    {
      "cell_type": "code",
      "metadata": {
        "id": "k17Et-mLKsUv"
      },
      "source": [
        "predicted_score = model.predict(sample_data)\n",
        "predicted_score = predicted_score.reshape(1)"
      ],
      "execution_count": null,
      "outputs": []
    },
    {
      "cell_type": "code",
      "metadata": {
        "id": "WzLIWy-hKvmR",
        "outputId": "74823b1a-242b-49d8-f8bb-e231e9a429a2",
        "colab": {
          "base_uri": "https://localhost:8080/",
          "height": 34
        }
      },
      "source": [
        "print(\"The predicted score is {}\".format(predicted_score[0]))"
      ],
      "execution_count": null,
      "outputs": [
        {
          "output_type": "stream",
          "text": [
            "The predicted score is 92.38611528261494\n"
          ],
          "name": "stdout"
        }
      ]
    },
    {
      "cell_type": "markdown",
      "metadata": {
        "id": "vq39XKfxPMZL"
      },
      "source": [
        "**The predicted score is 92.38%**"
      ]
    }
  ]
}